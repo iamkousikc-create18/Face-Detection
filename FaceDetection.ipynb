{
 "cells": [
  {
   "cell_type": "code",
   "execution_count": 2,
   "id": "ba437df2-e675-4e2f-a707-16b56acdd044",
   "metadata": {},
   "outputs": [],
   "source": [
    "import cv2\n",
    "import numpy as np"
   ]
  },
  {
   "cell_type": "code",
   "execution_count": 3,
   "id": "9031fcd0-a387-4cea-9ce4-e0dbc45c2650",
   "metadata": {},
   "outputs": [],
   "source": [
    "face_cap=cv2.CascadeClassifier(r\"C:\\Users\\USER\\Desktop\\HaarCascade\\haarcascade_frontalface_default.xml\")\n",
    "vid=cv2.VideoCapture(0)\n",
    "while vid.isOpened():\n",
    "    r,f=vid.read()\n",
    "    if r==True:\n",
    "        col=cv2.cvtColor(f,cv2.COLOR_BGR2GRAY)\n",
    "        faces=face_cap.detectMultiScale(col,scaleFactor=1.1,minNeighbors=5,minSize=(30,30),flags=cv2.CASCADE_SCALE_IMAGE)\n",
    "        for (x,y,w,h) in faces:\n",
    "            cv2.rectangle(f,(x,y),(x+w,y+h),(0,255,0),2)\n",
    "        cv2.imshow(\"Frame\",f)\n",
    "        \n",
    "        if cv2.waitKey(25) & 0xff==ord(\"p\"):\n",
    "            break\n",
    "    else:\n",
    "        break\n",
    "vid.release()\n",
    "cv2.destroyAllWindows()\n"
   ]
  },
  {
   "cell_type": "code",
   "execution_count": null,
   "id": "c6c7214f-5301-4d4f-8297-2d9834d14e10",
   "metadata": {},
   "outputs": [],
   "source": []
  }
 ],
 "metadata": {
  "kernelspec": {
   "display_name": "Python 3 (ipykernel)",
   "language": "python",
   "name": "python3"
  },
  "language_info": {
   "codemirror_mode": {
    "name": "ipython",
    "version": 3
   },
   "file_extension": ".py",
   "mimetype": "text/x-python",
   "name": "python",
   "nbconvert_exporter": "python",
   "pygments_lexer": "ipython3",
   "version": "3.11.13"
  }
 },
 "nbformat": 4,
 "nbformat_minor": 5
}
